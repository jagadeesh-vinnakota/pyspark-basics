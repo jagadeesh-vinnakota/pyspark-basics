{
 "cells": [
  {
   "cell_type": "code",
   "execution_count": 1,
   "metadata": {},
   "outputs": [],
   "source": [
    "from pyspark import SparkContext, SparkConf"
   ]
  },
  {
   "cell_type": "code",
   "execution_count": 2,
   "metadata": {},
   "outputs": [],
   "source": [
    "conf = SparkConf().setAppName(\"myapp\").setMaster(\"local\")\n",
    "sc = SparkContext(conf=conf)"
   ]
  },
  {
   "cell_type": "code",
   "execution_count": 3,
   "metadata": {},
   "outputs": [
    {
     "data": {
      "text/plain": [
       "'http://192.168.0.19:4040'"
      ]
     },
     "execution_count": 3,
     "metadata": {},
     "output_type": "execute_result"
    }
   ],
   "source": [
    "sc.uiWebUrl"
   ]
  },
  {
   "cell_type": "code",
   "execution_count": 4,
   "metadata": {},
   "outputs": [
    {
     "name": "stdout",
     "output_type": "stream",
     "text": [
      "ParallelCollectionRDD[0] at parallelize at PythonRDD.scala:195\n"
     ]
    }
   ],
   "source": [
    "# creating RDD from a collection\n",
    "data = [1, 2, 3, 4, 5]\n",
    "distData = sc.parallelize(data)\n",
    "type(distData)\n",
    "print(distData)"
   ]
  },
  {
   "cell_type": "code",
   "execution_count": 5,
   "metadata": {},
   "outputs": [],
   "source": [
    "# Creating RDD from an external dats set"
   ]
  },
  {
   "cell_type": "code",
   "execution_count": 6,
   "metadata": {},
   "outputs": [
    {
     "name": "stdout",
     "output_type": "stream",
     "text": [
      "['Once created, the distributed dataset (distData) can be operated on in parallel. ', 'For example, we can call distData.reduce(lambda a, b: a + b) to add up the elements of the list. ', 'We describe operations on distributed datasets later on.', '', 'One important parameter for parallel collections is the number of partitions to cut the dataset into. ', 'Spark will run one task for each partition of the cluster. Typically you want 2-4 partitions for each CPU in your cluster.', 'Normally, Spark tries to set the number of partitions automatically based on your cluster. ', 'However, you can also set it manually by passing it as a second parameter to parallelize (e.g. sc.parallelize(data, 10)). ', 'Note: some places in the code use the term slices (a synonym for partitions) to maintain backward compatibility.', '']\n",
      "['Once', 'created,', 'the', 'distributed', 'dataset', '(distData)', 'can', 'be', 'operated', 'on', 'in', 'parallel.', 'For', 'example,', 'we', 'can', 'call', 'distData.reduce(lambda', 'a,', 'b:', 'a', '+', 'b)', 'to', 'add', 'up', 'the', 'elements', 'of', 'the', 'list.', 'We', 'describe', 'operations', 'on', 'distributed', 'datasets', 'later', 'on.', 'One', 'important', 'parameter', 'for', 'parallel', 'collections', 'is', 'the', 'number', 'of', 'partitions', 'to', 'cut', 'the', 'dataset', 'into.', 'Spark', 'will', 'run', 'one', 'task', 'for', 'each', 'partition', 'of', 'the', 'cluster.', 'Typically', 'you', 'want', '2-4', 'partitions', 'for', 'each', 'CPU', 'in', 'your', 'cluster.', 'Normally,', 'Spark', 'tries', 'to', 'set', 'the', 'number', 'of', 'partitions', 'automatically', 'based', 'on', 'your', 'cluster.', 'However,', 'you', 'can', 'also', 'set', 'it', 'manually', 'by', 'passing', 'it', 'as', 'a', 'second', 'parameter', 'to', 'parallelize', '(e.g.', 'sc.parallelize(data,', '10)).', 'Note:', 'some', 'places', 'in', 'the', 'code', 'use', 'the', 'term', 'slices', '(a', 'synonym', 'for', 'partitions)', 'to', 'maintain', 'backward', 'compatibility.']\n"
     ]
    }
   ],
   "source": [
    "text = sc.textFile('data.txt')\n",
    "print(text.collect())\n",
    "text_list = text.map(lambda s : s.split()).reduce(lambda a, b: a + b)\n",
    "print(text_list)\n",
    "#print(text_list.collect())"
   ]
  },
  {
   "cell_type": "code",
   "execution_count": 8,
   "metadata": {},
   "outputs": [
    {
     "name": "stdout",
     "output_type": "stream",
     "text": [
      "[(1, 2), (2, 4), (3, 6), (4, 8)]\n"
     ]
    }
   ],
   "source": [
    "# saving and loading sequence files\n",
    "# A sequence file is a binary file where data is stored as key value pairs.\n",
    "data = sc.parallelize(range(1,5)).map(lambda x: (x, x*2))\n",
    "print(data.collect())\n",
    "#data.saveAsSequenceFile('textfile')"
   ]
  },
  {
   "cell_type": "code",
   "execution_count": 15,
   "metadata": {},
   "outputs": [
    {
     "name": "stdout",
     "output_type": "stream",
     "text": [
      "[81, 97, 56, 0, 102, 122, 91, 122, 112, 0]\n"
     ]
    }
   ],
   "source": [
    "lines = sc.textFile(\"data.txt\")\n",
    "lineLengths = lines.map(lambda s: len(s))\n",
    "print(lineLengths.collect())\n",
    "totalLength = lineLengths.reduce(lambda a, b: a + b)"
   ]
  },
  {
   "cell_type": "code",
   "execution_count": 16,
   "metadata": {},
   "outputs": [
    {
     "name": "stdout",
     "output_type": "stream",
     "text": [
      "Counter value:  0\n"
     ]
    }
   ],
   "source": [
    "counter = 0\n",
    "rdd = sc.parallelize(range(1,5))\n",
    "\n",
    "# Wrong: Don't do this!!\n",
    "def increment_counter(x):\n",
    "    global counter\n",
    "    counter += x\n",
    "rdd.foreach(increment_counter)\n",
    "\n",
    "print(\"Counter value: \", counter)"
   ]
  },
  {
   "cell_type": "code",
   "execution_count": 18,
   "metadata": {},
   "outputs": [
    {
     "name": "stdout",
     "output_type": "stream",
     "text": [
      "[1, 2, 3, 4]\n",
      "Counter value:  0\n",
      "[1, 2, 3, 4]\n"
     ]
    }
   ],
   "source": [
    "counter = 0\n",
    "rdd = sc.parallelize(range(1,5))\n",
    "print(rdd.collect())\n",
    "# Wrong: Don't do this!!\n",
    "def increment_counter(x):\n",
    "    return x+1\n",
    "rdd.foreach(increment_counter)\n",
    "\n",
    "print(\"Counter value: \", counter)\n",
    "print(rdd.collect())"
   ]
  },
  {
   "cell_type": "code",
   "execution_count": 20,
   "metadata": {},
   "outputs": [
    {
     "name": "stdout",
     "output_type": "stream",
     "text": [
      "[('Once created, the distributed dataset (distData) can be operated on in parallel. ', 1), ('For example, we can call distData.reduce(lambda a, b: a + b) to add up the elements of the list. ', 1), ('We describe operations on distributed datasets later on.', 1), ('', 2), ('One important parameter for parallel collections is the number of partitions to cut the dataset into. ', 1), ('Spark will run one task for each partition of the cluster. Typically you want 2-4 partitions for each CPU in your cluster.', 1), ('Normally, Spark tries to set the number of partitions automatically based on your cluster. ', 1), ('However, you can also set it manually by passing it as a second parameter to parallelize (e.g. sc.parallelize(data, 10)). ', 1), ('Note: some places in the code use the term slices (a synonym for partitions) to maintain backward compatibility.', 1)]\n"
     ]
    }
   ],
   "source": [
    "# working with key-value pairs\n",
    "lines = sc.textFile(\"data.txt\")\n",
    "pairs = lines.map(lambda s: (s, 1))\n",
    "counts = pairs.reduceByKey(lambda a, b: a + b)\n",
    "print(counts.collect())"
   ]
  },
  {
   "cell_type": "code",
   "execution_count": null,
   "metadata": {},
   "outputs": [],
   "source": []
  }
 ],
 "metadata": {
  "kernelspec": {
   "display_name": "test-venv",
   "language": "python",
   "name": "test-venv"
  },
  "language_info": {
   "codemirror_mode": {
    "name": "ipython",
    "version": 3
   },
   "file_extension": ".py",
   "mimetype": "text/x-python",
   "name": "python",
   "nbconvert_exporter": "python",
   "pygments_lexer": "ipython3",
   "version": "3.7.5"
  }
 },
 "nbformat": 4,
 "nbformat_minor": 2
}
